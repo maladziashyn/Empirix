{
 "cells": [
  {
   "cell_type": "markdown",
   "id": "a63c1061",
   "metadata": {},
   "source": [
    "Блокнот к статье [Сколько времени валюты проводят в трендах](https://empirix.ru/skolko-valyuty-provodyat-v-trendah/)"
   ]
  },
  {
   "cell_type": "markdown",
   "id": "7263dee7",
   "metadata": {},
   "source": [
    "# Trend vs. Flat"
   ]
  },
  {
   "cell_type": "code",
   "execution_count": null,
   "id": "9632c6d5-82b8-44f1-a151-b75b7f8fd9dc",
   "metadata": {},
   "outputs": [],
   "source": [
    "# !pip install matplotlib\n",
    "# !pip install pandas\n",
    "# !pip install yfinance"
   ]
  },
  {
   "cell_type": "code",
   "execution_count": null,
   "id": "6ddc4af7",
   "metadata": {
    "scrolled": true
   },
   "outputs": [],
   "source": [
    "import matplotlib.pyplot as plt\n",
    "import numpy as np\n",
    "import pandas as pd\n",
    "import yfinance as yf"
   ]
  },
  {
   "cell_type": "markdown",
   "id": "d2391aa0",
   "metadata": {},
   "source": [
    "## Ticker from finance.yahoo.com"
   ]
  },
  {
   "cell_type": "code",
   "execution_count": null,
   "id": "77fbac84",
   "metadata": {},
   "outputs": [],
   "source": [
    "ticker = \"GBPUSD=X\"\n",
    "date_from = '2003-01-01'\n",
    "date_to = pd.Timestamp.today().date()\n",
    "# # Or select custom date\n",
    "# date_to = '2022-09-23'\n",
    "\n",
    "df = yf.download(ticker, start=date_from, end=date_to, progress=False)\n",
    "df"
   ]
  },
  {
   "cell_type": "code",
   "execution_count": null,
   "id": "3b82723e",
   "metadata": {},
   "outputs": [],
   "source": [
    "# Update DF by removing redundant columns\n",
    "df = df['Close'].to_frame()\n",
    "# Remove time portion from index\n",
    "df.index = df.index.date\n",
    "\n",
    "df"
   ]
  },
  {
   "cell_type": "code",
   "execution_count": null,
   "id": "986cbfff",
   "metadata": {},
   "outputs": [],
   "source": [
    "# Simple moving average - 3\n",
    "sma_1 = 20\n",
    "\n",
    "mult = 1.75\n",
    "\n",
    "sma_2 = int(sma_1 * mult)\n",
    "sma_3 = int(sma_2 * mult)\n",
    "\n",
    "print(sma_1, sma_2, sma_3)"
   ]
  },
  {
   "cell_type": "markdown",
   "id": "eb38ee46",
   "metadata": {},
   "source": [
    "## Dataframe, 3 SMAs"
   ]
  },
  {
   "cell_type": "code",
   "execution_count": null,
   "id": "d3b317c2",
   "metadata": {
    "scrolled": true
   },
   "outputs": [],
   "source": [
    "# Calculate SMA using .rolling(window).mean()\n",
    "for sma in [sma_1, sma_2, sma_3]:\n",
    "    df[f'SMA{sma}'] = df['Close'].rolling(sma).mean()\n",
    "\n",
    "# Remove null values\n",
    "df.dropna(inplace=True)\n",
    "\n",
    "df.head()"
   ]
  },
  {
   "cell_type": "markdown",
   "id": "f0fa4661",
   "metadata": {},
   "source": [
    "## Plot chart"
   ]
  },
  {
   "cell_type": "code",
   "execution_count": null,
   "id": "968b498e",
   "metadata": {
    "scrolled": true
   },
   "outputs": [],
   "source": [
    "df[['Close',\n",
    "    f'SMA{sma_1}', \n",
    "    f'SMA{sma_2}', \n",
    "    f'SMA{sma_3}']].plot(label=ticker, figsize=(16, 9))\n",
    "\n",
    "# Set the title and axis label\n",
    "plt.title(ticker, fontsize=16)\n",
    "plt.xlabel('Year-Month', fontsize=15)\n",
    "plt.ylabel('Price', fontsize=15)\n",
    "plt.xticks(fontsize=15)\n",
    "plt.yticks(fontsize=15)\n",
    "\n",
    "plt.show()"
   ]
  },
  {
   "cell_type": "markdown",
   "id": "505825b0",
   "metadata": {},
   "source": [
    "### Plot a subset for more visibility"
   ]
  },
  {
   "cell_type": "code",
   "execution_count": null,
   "id": "6155c2b3",
   "metadata": {},
   "outputs": [],
   "source": [
    "# Make a smaller subset\n",
    "sub_date_from = pd.to_datetime('2019-01-01')\n",
    "sub_date_to = pd.to_datetime('2019-12-31')\n",
    "\n",
    "df_sub = df.loc[(pd.to_datetime(df.index) >= sub_date_from)\n",
    "                & (pd.to_datetime(df.index) <= sub_date_to)]\n",
    "df_sub.tail()"
   ]
  },
  {
   "cell_type": "code",
   "execution_count": null,
   "id": "f41311f1",
   "metadata": {
    "scrolled": true
   },
   "outputs": [],
   "source": [
    "df_sub[['Close',\n",
    "    f'SMA{sma_1}', \n",
    "    f'SMA{sma_2}', \n",
    "    f'SMA{sma_3}']].plot(label=ticker, figsize=(16, 9))\n",
    "\n",
    "# Set the title and axis label\n",
    "plt.title(ticker, fontsize=16)\n",
    "plt.xlabel('Year-Month', fontsize=15)\n",
    "plt.ylabel('Price', fontsize=15)\n",
    "plt.xticks(fontsize=15)\n",
    "plt.yticks(fontsize=15)\n",
    "\n",
    "plt.show()"
   ]
  },
  {
   "cell_type": "markdown",
   "id": "f601b782",
   "metadata": {},
   "source": [
    "## Calculations: trend vs. flat"
   ]
  },
  {
   "cell_type": "code",
   "execution_count": null,
   "id": "1fd7de2d",
   "metadata": {
    "scrolled": true
   },
   "outputs": [],
   "source": [
    "# Calculate states: trend (up, down) of flat\n",
    "df['uptrend'] = (\n",
    "    ((df[f'SMA{sma_1}'] > df[f'SMA{sma_2}']) \n",
    "     & (df[f'SMA{sma_2}'] > df[f'SMA{sma_3}']))).astype(int)\n",
    "\n",
    "df['downtrend'] = (\n",
    "    ((df[f'SMA{sma_1}'] < df[f'SMA{sma_2}'])          \n",
    "     & (df[f'SMA{sma_2}'] < df[f'SMA{sma_3}']))).astype(int)\n",
    "\n",
    "df['flat'] = ((df['uptrend'] == 0) & (df['downtrend'] == 0)).astype(int)\n",
    "df[470:477]"
   ]
  },
  {
   "cell_type": "code",
   "execution_count": null,
   "id": "46899ab3",
   "metadata": {
    "scrolled": true
   },
   "outputs": [],
   "source": [
    "# % of time in each state\n",
    "uptr = df['uptrend'].sum() / len(df)\n",
    "dntr = df['downtrend'].sum() / len(df)\n",
    "flat = df['flat'].sum() / len(df)\n",
    "\n",
    "print(f\"Uptrend: {uptr}\\nDowntrend: {dntr}\\nFlat: {flat}\")"
   ]
  },
  {
   "cell_type": "markdown",
   "id": "0d162a63",
   "metadata": {},
   "source": [
    "## Trend vs. Flat pie chart"
   ]
  },
  {
   "cell_type": "code",
   "execution_count": null,
   "id": "5bcf19fe",
   "metadata": {
    "scrolled": true
   },
   "outputs": [],
   "source": [
    "values = [uptr + dntr, flat]\n",
    "labels = [\"Trend\", \"Flat\"]\n",
    "myexplode = [0, 0.2]\n",
    "plt.pie(values, labels=labels, startangle=90, explode=myexplode, \n",
    "        autopct=\"%1.1f%%\")\n",
    "plt.title(f\"{ticker}, Trend, Flat\")\n",
    "plt.show()"
   ]
  },
  {
   "cell_type": "markdown",
   "id": "38286464",
   "metadata": {},
   "source": [
    "<hr>"
   ]
  },
  {
   "cell_type": "markdown",
   "id": "d619ff6c",
   "metadata": {},
   "source": [
    "# Scan Tickers"
   ]
  },
  {
   "cell_type": "code",
   "execution_count": null,
   "id": "e85ffa6e",
   "metadata": {
    "scrolled": true
   },
   "outputs": [],
   "source": [
    "def trend_flat(df_main, date_from, date_to, sma_1, sma_mult):\n",
    "    df = df_main.copy(deep=True)\n",
    "    \"\"\"\n",
    "    Take df, add smas, compute time in trend/flat.\n",
    "    Return stats: smas list, time in trend, time in flat,\n",
    "    date from, date to.\n",
    "    \"\"\"\n",
    "    \n",
    "    # Calculate SMA using .rolling(window).mean()\n",
    "    sma_2 = int(sma_1 * sma_mult)\n",
    "    sma_3 = int(sma_2 * sma_mult)\n",
    "    for sma in [sma_1, sma_2, sma_3]:\n",
    "        df[f'SMA{sma}'] = df['Close'].rolling(sma).mean()\n",
    "\n",
    "    # Remove null values\n",
    "    df.dropna(inplace=True)\n",
    "    \n",
    "    # Tag days as 1 or 0, spent in trend or flat\n",
    "    df['uptrend'] = (\n",
    "    ((df[f'SMA{sma_1}'] > df[f'SMA{sma_2}']) \n",
    "     & (df[f'SMA{sma_2}'] > df[f'SMA{sma_3}']))).astype(int)\n",
    "\n",
    "    df['downtrend'] = (\n",
    "        ((df[f'SMA{sma_1}'] < df[f'SMA{sma_2}'])          \n",
    "         & (df[f'SMA{sma_2}'] < df[f'SMA{sma_3}']))).astype(int)\n",
    "\n",
    "    df['flat'] = ((df['uptrend'] == 0) \n",
    "                  & (df['downtrend'] == 0)).astype(int)\n",
    "\n",
    "    # % in each state\n",
    "    uptr = df['uptrend'].sum() / len(df)\n",
    "    dntr = df['downtrend'].sum() / len(df)\n",
    "    flat = df['flat'].sum() / len(df)\n",
    "    \n",
    "    # Dates\n",
    "    dt_from = df.index[0]\n",
    "    dt_to = df.index[len(df)-1]\n",
    "    \n",
    "    return (f\"{sma_1}_{sma_2}_{sma_3}\",\n",
    "            uptr + dntr, flat, dt_from, dt_to)"
   ]
  },
  {
   "cell_type": "code",
   "execution_count": null,
   "id": "b7c04382",
   "metadata": {
    "scrolled": true
   },
   "outputs": [],
   "source": [
    "tickers = [\"EURUSD=X\", \"GBPUSD=X\", \"AUDUSD=X\", \n",
    "           \"NZDUSD=X\", \"CAD=X\", \"JPY=X\", \n",
    "           \"EURJPY=X\", \"GBPJPY=X\", \"EURGBP=X\"]\n",
    "\n",
    "date_from = '2000-01-01'\n",
    "date_to = '2022-09-23'\n",
    "sma_mult = 1.75\n",
    "\n",
    "smas = [5, 10, 20, 30, 50, 100, 150, 200]"
   ]
  },
  {
   "cell_type": "code",
   "execution_count": null,
   "id": "4ea932bc",
   "metadata": {
    "scrolled": true
   },
   "outputs": [],
   "source": [
    "for ticker in tickers:\n",
    "    # Download daily prices\n",
    "    df = yf.download(ticker, start=date_from, end=date_to,\n",
    "                     progress=False)\n",
    "\n",
    "    # Update DF by removing redundant columns\n",
    "    df = df['Close'].to_frame()\n",
    "\n",
    "    # Remove time portion from index\n",
    "    df.index = df.index.date\n",
    "    \n",
    "    result = {\"SMAs\": [], \"trend\": [], \"flat\": []}\n",
    "    \n",
    "    for i in smas:\n",
    "        tr_fl = trend_flat(df, date_from, date_to, i, sma_mult)\n",
    "        result[\"SMAs\"].append(tr_fl[0])\n",
    "        result[\"trend\"].append(tr_fl[1])\n",
    "        result[\"flat\"].append(tr_fl[2])\n",
    "        \n",
    "    print(f'\\n\\nTICKER: {ticker}')\n",
    "    print(f'DATES: {tr_fl[3]} - {tr_fl[4]}')\n",
    "    time_in_trend = round(sum(result[\"trend\"]) \n",
    "                          / len(result[\"trend\"]) * 100, 2)\n",
    "    print(f'TREND, AVERAGE: {time_in_trend}%')\n",
    "\n",
    "    r_df = pd.DataFrame(result)\n",
    "    r_df.plot.bar(x='SMAs', stacked=True)\n",
    "    plt.title(f\"{ticker}, Trend vs. Flat\")\n",
    "    plt.show()"
   ]
  },
  {
   "cell_type": "code",
   "execution_count": null,
   "id": "4003cb58-48bb-4ab7-9858-560cfb831072",
   "metadata": {},
   "outputs": [],
   "source": []
  }
 ],
 "metadata": {
  "kernelspec": {
   "display_name": "trash",
   "language": "python",
   "name": "trash"
  },
  "language_info": {
   "codemirror_mode": {
    "name": "ipython",
    "version": 3
   },
   "file_extension": ".py",
   "mimetype": "text/x-python",
   "name": "python",
   "nbconvert_exporter": "python",
   "pygments_lexer": "ipython3",
   "version": "3.10.6"
  }
 },
 "nbformat": 4,
 "nbformat_minor": 5
}
